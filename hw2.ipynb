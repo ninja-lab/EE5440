{
 "cells": [
  {
   "cell_type": "code",
   "execution_count": 1,
   "id": "f8fad98c-f72a-4cd3-983f-794942879b3e",
   "metadata": {
    "tags": []
   },
   "outputs": [],
   "source": [
    "from sympy import symbols, exp \n",
    "from sympy import conjugate, I, nonlinsolve\n",
    "from sympy import solveset, S\n",
    "from sympy import simplify, sinh\n",
    "from sympy import together, apart, cancel, factor, expand"
   ]
  },
  {
   "cell_type": "code",
   "execution_count": 2,
   "id": "6b44ffd1-0a80-4044-a7f6-451e68748ae0",
   "metadata": {
    "tags": []
   },
   "outputs": [],
   "source": [
    "A = symbols('A', Real=True)\n",
    "B = symbols('B', Real=True)\n",
    "C= symbols('C', Real=True)\n",
    "D = symbols('D', Real=True)\n",
    "k1 = symbols('k_1',Real=True, positive=True)\n",
    "k2 = symbols('k_2',Real=True, positive=True)\n",
    "F = symbols('F', Real=True)\n",
    "j=I\n",
    "L=symbols('L', Real=True, positive=True)"
   ]
  },
  {
   "cell_type": "code",
   "execution_count": 3,
   "id": "0efb3dfc-04fc-4142-be31-254d52c1d457",
   "metadata": {
    "tags": []
   },
   "outputs": [],
   "source": [
    "from IPython.core.interactiveshell import InteractiveShell\n",
    "InteractiveShell.ast_node_interactivity = \"all\""
   ]
  },
  {
   "cell_type": "code",
   "execution_count": 4,
   "id": "72b05ba3-2ea7-4792-9318-5ed164586685",
   "metadata": {
    "tags": []
   },
   "outputs": [],
   "source": [
    "eq1 = 1+B - (C+D)\n",
    "eq2 = C*exp(k2*L) + D*exp(-k2*L) - F*exp(j*k1*L)\n",
    "eq3 = j*k1 - j*k1*B - (k2*C - k2*D)\n",
    "eq4 = k2*C*exp(k2*L)-k2*D*exp(-k2*L) - j*k1*F*exp(j*k1*L)  "
   ]
  },
  {
   "cell_type": "markdown",
   "id": "462c79e0-a038-4489-84ed-74ac593748fa",
   "metadata": {},
   "source": [
    "all equations normalized by A and in sympy, all equations are implicitly equal to zero"
   ]
  },
  {
   "cell_type": "code",
   "execution_count": 5,
   "id": "fc8d657a-06fb-4dd1-beb2-460fba97864e",
   "metadata": {
    "tags": []
   },
   "outputs": [
    {
     "data": {
      "text/latex": [
       "$\\displaystyle B - C - D + 1$"
      ],
      "text/plain": [
       "B - C - D + 1"
      ]
     },
     "execution_count": 5,
     "metadata": {},
     "output_type": "execute_result"
    },
    {
     "data": {
      "text/latex": [
       "$\\displaystyle C e^{L k_{2}} + D e^{- L k_{2}} - F e^{i L k_{1}}$"
      ],
      "text/plain": [
       "C*exp(L*k_2) + D*exp(-L*k_2) - F*exp(I*L*k_1)"
      ]
     },
     "execution_count": 5,
     "metadata": {},
     "output_type": "execute_result"
    },
    {
     "data": {
      "text/latex": [
       "$\\displaystyle - i B k_{1} - C k_{2} + D k_{2} + i k_{1}$"
      ],
      "text/plain": [
       "-I*B*k_1 - C*k_2 + D*k_2 + I*k_1"
      ]
     },
     "execution_count": 5,
     "metadata": {},
     "output_type": "execute_result"
    },
    {
     "data": {
      "text/latex": [
       "$\\displaystyle C k_{2} e^{L k_{2}} - D k_{2} e^{- L k_{2}} - i F k_{1} e^{i L k_{1}}$"
      ],
      "text/plain": [
       "C*k_2*exp(L*k_2) - D*k_2*exp(-L*k_2) - I*F*k_1*exp(I*L*k_1)"
      ]
     },
     "execution_count": 5,
     "metadata": {},
     "output_type": "execute_result"
    }
   ],
   "source": [
    "eq1\n",
    "eq2\n",
    "eq3\n",
    "eq4"
   ]
  },
  {
   "cell_type": "markdown",
   "id": "d9805973-5ed6-4bca-99f9-aeb05f7a0219",
   "metadata": {},
   "source": [
    "#### solve eq1 for B"
   ]
  },
  {
   "cell_type": "code",
   "execution_count": 6,
   "id": "c6723ed8-6c7f-4fc9-a723-610ffdbacd27",
   "metadata": {
    "tags": []
   },
   "outputs": [
    {
     "data": {
      "text/latex": [
       "$\\displaystyle C + D - 1$"
      ],
      "text/plain": [
       "C + D - 1"
      ]
     },
     "execution_count": 6,
     "metadata": {},
     "output_type": "execute_result"
    }
   ],
   "source": [
    "b= solveset(eq1, B).args[0]\n",
    "b"
   ]
  },
  {
   "cell_type": "markdown",
   "id": "6b81e0b8-ec55-4b47-8c84-a798be9bc175",
   "metadata": {},
   "source": [
    "#### and substitute into eq3"
   ]
  },
  {
   "cell_type": "code",
   "execution_count": 7,
   "id": "731c5c39-184d-4e1f-aec2-b4decb92fad6",
   "metadata": {
    "tags": []
   },
   "outputs": [
    {
     "data": {
      "text/latex": [
       "$\\displaystyle - C k_{2} + D k_{2} - i k_{1} \\left(C + D - 1\\right) + i k_{1}$"
      ],
      "text/plain": [
       "-C*k_2 + D*k_2 - I*k_1*(C + D - 1) + I*k_1"
      ]
     },
     "execution_count": 7,
     "metadata": {},
     "output_type": "execute_result"
    }
   ],
   "source": [
    "ans = eq3.subs({B:b})\n",
    "ans"
   ]
  },
  {
   "cell_type": "markdown",
   "id": "7fd2b7c9-1e89-49e1-93d1-6d4c75e68d26",
   "metadata": {},
   "source": [
    "#### then get D in terms of C"
   ]
  },
  {
   "cell_type": "code",
   "execution_count": 8,
   "id": "e5e173f2-6550-4533-a650-70b0ea185616",
   "metadata": {
    "tags": []
   },
   "outputs": [
    {
     "data": {
      "text/latex": [
       "$\\displaystyle - \\frac{C k_{1} - i C k_{2} - 2 k_{1}}{k_{1} + i k_{2}}$"
      ],
      "text/plain": [
       "-(C*k_1 - I*C*k_2 - 2*k_1)/(k_1 + I*k_2)"
      ]
     },
     "execution_count": 8,
     "metadata": {},
     "output_type": "execute_result"
    }
   ],
   "source": [
    "d = solveset(ans, D).args[0]\n",
    "d"
   ]
  },
  {
   "cell_type": "markdown",
   "id": "faf79643-9a14-443d-b77e-92654bcaf0ab",
   "metadata": {},
   "source": [
    "#### put D into equation 4"
   ]
  },
  {
   "cell_type": "code",
   "execution_count": 9,
   "id": "32ba8033-65f1-4336-8c6c-7e18fdc61dae",
   "metadata": {
    "tags": []
   },
   "outputs": [
    {
     "data": {
      "text/latex": [
       "$\\displaystyle C k_{2} e^{L k_{2}} - i F k_{1} e^{i L k_{1}} + \\frac{k_{2} \\left(C k_{1} - i C k_{2} - 2 k_{1}\\right) e^{- L k_{2}}}{k_{1} + i k_{2}}$"
      ],
      "text/plain": [
       "C*k_2*exp(L*k_2) - I*F*k_1*exp(I*L*k_1) + k_2*(C*k_1 - I*C*k_2 - 2*k_1)*exp(-L*k_2)/(k_1 + I*k_2)"
      ]
     },
     "execution_count": 9,
     "metadata": {},
     "output_type": "execute_result"
    }
   ],
   "source": [
    "ans = eq4.subs({D:d})\n",
    "ans"
   ]
  },
  {
   "cell_type": "markdown",
   "id": "b7bcc23d-0b56-49c7-b93c-3274d1d82823",
   "metadata": {},
   "source": [
    "#### now use eq2, you already have D in terms of C,  get F for a second equation of F and C"
   ]
  },
  {
   "cell_type": "code",
   "execution_count": 10,
   "id": "a3461de1-70fb-4c06-88cf-98b3100dd715",
   "metadata": {
    "tags": []
   },
   "outputs": [
    {
     "data": {
      "text/latex": [
       "$\\displaystyle C e^{L k_{2}} - F e^{i L k_{1}} - \\frac{\\left(C k_{1} - i C k_{2} - 2 k_{1}\\right) e^{- L k_{2}}}{k_{1} + i k_{2}}$"
      ],
      "text/plain": [
       "C*exp(L*k_2) - F*exp(I*L*k_1) - (C*k_1 - I*C*k_2 - 2*k_1)*exp(-L*k_2)/(k_1 + I*k_2)"
      ]
     },
     "execution_count": 10,
     "metadata": {},
     "output_type": "execute_result"
    }
   ],
   "source": [
    "eq5 = eq2.subs({D:d})\n",
    "eq5"
   ]
  },
  {
   "cell_type": "markdown",
   "id": "f9045431-790f-4733-a941-69e54b049f04",
   "metadata": {},
   "source": [
    "#### now we have two equations in F and C \n",
    "#### solve the first for C, then substitute into the second and solve for F "
   ]
  },
  {
   "cell_type": "code",
   "execution_count": 11,
   "id": "2035d2b8-1be5-4ef0-a713-d082598a9420",
   "metadata": {
    "tags": []
   },
   "outputs": [
    {
     "data": {
      "text/latex": [
       "$\\displaystyle \\frac{k_{1} \\left(i F k_{1} e^{L \\left(i k_{1} + k_{2}\\right)} - F k_{2} e^{L \\left(i k_{1} + k_{2}\\right)} + 2 k_{2}\\right)}{k_{2} \\left(k_{1} e^{2 L k_{2}} + k_{1} + i k_{2} e^{2 L k_{2}} - i k_{2}\\right)}$"
      ],
      "text/plain": [
       "k_1*(I*F*k_1*exp(L*(I*k_1 + k_2)) - F*k_2*exp(L*(I*k_1 + k_2)) + 2*k_2)/(k_2*(k_1*exp(2*L*k_2) + k_1 + I*k_2*exp(2*L*k_2) - I*k_2))"
      ]
     },
     "execution_count": 11,
     "metadata": {},
     "output_type": "execute_result"
    },
    {
     "data": {
      "text/latex": [
       "$\\displaystyle \\frac{4 i k_{1} k_{2} e^{- L \\left(i k_{1} - k_{2}\\right)}}{k_{1}^{2} e^{2 L k_{2}} - k_{1}^{2} + 2 i k_{1} k_{2} e^{2 L k_{2}} + 2 i k_{1} k_{2} - k_{2}^{2} e^{2 L k_{2}} + k_{2}^{2}}$"
      ],
      "text/plain": [
       "4*I*k_1*k_2*exp(-L*(I*k_1 - k_2))/(k_1**2*exp(2*L*k_2) - k_1**2 + 2*I*k_1*k_2*exp(2*L*k_2) + 2*I*k_1*k_2 - k_2**2*exp(2*L*k_2) + k_2**2)"
      ]
     },
     "execution_count": 11,
     "metadata": {},
     "output_type": "execute_result"
    }
   ],
   "source": [
    "c = solveset(simplify(ans), C).args[0]\n",
    "c\n",
    "ans = simplify(eq5.subs({C:c}))\n",
    "ans2 = simplify(solveset(ans, F).args[0])\n",
    "ans2"
   ]
  },
  {
   "cell_type": "code",
   "execution_count": 12,
   "id": "1ca72a15-ed21-4b1c-b7a9-6ced88cc9f1d",
   "metadata": {
    "tags": []
   },
   "outputs": [
    {
     "data": {
      "text/latex": [
       "$\\displaystyle \\frac{4 i k_{1} e^{- i L k_{1}}}{k_{2} \\left(- \\left(- \\frac{i k_{1}}{k_{2}} + 1\\right)^{2} e^{L k_{2}} + \\left(\\frac{i k_{1}}{k_{2}} + 1\\right)^{2} e^{- L k_{2}}\\right)}$"
      ],
      "text/plain": [
       "4*I*k_1*exp(-I*L*k_1)/(k_2*(-(-I*k_1/k_2 + 1)**2*exp(L*k_2) + (I*k_1/k_2 + 1)**2*exp(-L*k_2)))"
      ]
     },
     "execution_count": 12,
     "metadata": {},
     "output_type": "execute_result"
    }
   ],
   "source": [
    "real_ans = 4*j*k1/(k2*exp(j*k1*L)) / ( (1+j*k1/k2)**2*exp(-k2*L) - (1-j*k1/k2)**2*exp(k2*L))\n",
    "real_ans "
   ]
  },
  {
   "cell_type": "markdown",
   "id": "d87c918b-42ac-4edd-86ba-3a97d338307e",
   "metadata": {},
   "source": [
    "#### the given solution, minus the one found here, equals 0"
   ]
  },
  {
   "cell_type": "code",
   "execution_count": 13,
   "id": "2e3518ed-07ab-40f0-bb2f-1e556e9fca57",
   "metadata": {
    "tags": []
   },
   "outputs": [
    {
     "data": {
      "text/latex": [
       "$\\displaystyle 0$"
      ],
      "text/plain": [
       "0"
      ]
     },
     "execution_count": 13,
     "metadata": {},
     "output_type": "execute_result"
    }
   ],
   "source": [
    "simplify((ans2 - real_ans))"
   ]
  },
  {
   "cell_type": "code",
   "execution_count": 14,
   "id": "d99bb814-1bd8-4fa4-adba-c9537354c50d",
   "metadata": {
    "tags": []
   },
   "outputs": [
    {
     "data": {
      "text/latex": [
       "$\\displaystyle \\frac{1}{1 + \\frac{\\left(k_{1}^{2} + k_{2}^{2}\\right) \\sinh^{2}{\\left(L k_{2} \\right)}}{2 k_{1} k_{2}}}$"
      ],
      "text/plain": [
       "1/(1 + (k_1**2 + k_2**2)*sinh(L*k_2)**2/(2*k_1*k_2))"
      ]
     },
     "execution_count": 14,
     "metadata": {},
     "output_type": "execute_result"
    }
   ],
   "source": [
    "T = 1 / (1 + ((k1**2+k2**2)/(2*k1*k2))*sinh(k2*L)**2)\n",
    "T"
   ]
  },
  {
   "cell_type": "code",
   "execution_count": 16,
   "id": "0b7b4a78-8815-4caa-a742-87e1f6a13173",
   "metadata": {
    "tags": []
   },
   "outputs": [
    {
     "data": {
      "text/latex": [
       "$\\displaystyle 0$"
      ],
      "text/plain": [
       "0"
      ]
     },
     "execution_count": 16,
     "metadata": {},
     "output_type": "execute_result"
    }
   ],
   "source": [
    "simplify((T - conjugate(ans2)*ans2).subs({k1:1, k2:1, L:1}))"
   ]
  },
  {
   "cell_type": "code",
   "execution_count": 26,
   "id": "8f5464b0-d5e8-4bab-a298-e27da877fc33",
   "metadata": {
    "tags": []
   },
   "outputs": [
    {
     "data": {
      "text/latex": [
       "$\\displaystyle \\frac{2 k_{2} \\cdot \\left(8 k_{2} \\cdot \\left(2 k_{2} + \\left(k_{2}^{2} + 1\\right) \\sinh^{2}{\\left(L k_{2} \\right)}\\right) e^{2 L k_{2}} + \\left(- k_{2}^{2} e^{2 L k_{2}} + k_{2}^{2} + 2 i k_{2} \\left(e^{2 L k_{2}} + 1\\right) + e^{2 L k_{2}} - 1\\right) \\left(k_{2}^{2} e^{2 L k_{2}} - k_{2}^{2} + 2 i k_{2} \\left(e^{2 L k_{2}} + 1\\right) - e^{2 L k_{2}} + 1\\right)\\right)}{\\left(2 k_{2} + \\left(k_{2}^{2} + 1\\right) \\sinh^{2}{\\left(L k_{2} \\right)}\\right) \\left(- k_{2}^{2} e^{2 L k_{2}} + k_{2}^{2} + 2 i k_{2} \\left(e^{2 L k_{2}} + 1\\right) + e^{2 L k_{2}} - 1\\right) \\left(k_{2}^{2} e^{2 L k_{2}} - k_{2}^{2} + 2 i k_{2} \\left(e^{2 L k_{2}} + 1\\right) - e^{2 L k_{2}} + 1\\right)}$"
      ],
      "text/plain": [
       "2*k_2*(8*k_2*(2*k_2 + (k_2**2 + 1)*sinh(L*k_2)**2)*exp(2*L*k_2) + (-k_2**2*exp(2*L*k_2) + k_2**2 + 2*I*k_2*(exp(2*L*k_2) + 1) + exp(2*L*k_2) - 1)*(k_2**2*exp(2*L*k_2) - k_2**2 + 2*I*k_2*(exp(2*L*k_2) + 1) - exp(2*L*k_2) + 1))/((2*k_2 + (k_2**2 + 1)*sinh(L*k_2)**2)*(-k_2**2*exp(2*L*k_2) + k_2**2 + 2*I*k_2*(exp(2*L*k_2) + 1) + exp(2*L*k_2) - 1)*(k_2**2*exp(2*L*k_2) - k_2**2 + 2*I*k_2*(exp(2*L*k_2) + 1) - exp(2*L*k_2) + 1))"
      ]
     },
     "execution_count": 26,
     "metadata": {},
     "output_type": "execute_result"
    }
   ],
   "source": [
    "simplify((T - conjugate(ans2)*ans2).subs({k1:1}))"
   ]
  },
  {
   "cell_type": "code",
   "execution_count": 20,
   "id": "4ebc1897-07d0-4358-8edd-4e3aacac968b",
   "metadata": {
    "tags": []
   },
   "outputs": [
    {
     "data": {
      "text/latex": [
       "$\\displaystyle \\frac{16 k_{1}^{2} k_{2}^{2} e^{2 L k_{2}}}{k_{1}^{4} e^{4 L k_{2}} - 2 k_{1}^{4} e^{2 L k_{2}} + k_{1}^{4} + 2 k_{1}^{2} k_{2}^{2} e^{4 L k_{2}} + 12 k_{1}^{2} k_{2}^{2} e^{2 L k_{2}} + 2 k_{1}^{2} k_{2}^{2} + k_{2}^{4} e^{4 L k_{2}} - 2 k_{2}^{4} e^{2 L k_{2}} + k_{2}^{4}}$"
      ],
      "text/plain": [
       "16*k_1**2*k_2**2*exp(2*L*k_2)/(k_1**4*exp(4*L*k_2) - 2*k_1**4*exp(2*L*k_2) + k_1**4 + 2*k_1**2*k_2**2*exp(4*L*k_2) + 12*k_1**2*k_2**2*exp(2*L*k_2) + 2*k_1**2*k_2**2 + k_2**4*exp(4*L*k_2) - 2*k_2**4*exp(2*L*k_2) + k_2**4)"
      ]
     },
     "execution_count": 20,
     "metadata": {},
     "output_type": "execute_result"
    }
   ],
   "source": [
    "expand(conjugate(ans2)*ans2)"
   ]
  },
  {
   "cell_type": "code",
   "execution_count": null,
   "id": "85f0d56b-2f91-4d95-96f0-645cc4f65dbc",
   "metadata": {},
   "outputs": [],
   "source": [
    "simplify((T - conjugate(ans2)*ans2).subs({k1:1, k2:1, L:1}))"
   ]
  },
  {
   "cell_type": "code",
   "execution_count": 21,
   "id": "2cf71fd0-85e1-42f9-8570-7cbdb2a36fca",
   "metadata": {
    "tags": []
   },
   "outputs": [
    {
     "data": {
      "text/latex": [
       "$\\displaystyle - \\frac{4 i k_{1} k_{2} e^{- L \\left(- i k_{1} - k_{2}\\right)}}{k_{1}^{2} e^{2 L k_{2}} - k_{1}^{2} - 2 i k_{1} k_{2} e^{2 L k_{2}} - 2 i k_{1} k_{2} - k_{2}^{2} e^{2 L k_{2}} + k_{2}^{2}}$"
      ],
      "text/plain": [
       "-4*I*k_1*k_2*exp(-L*(-I*k_1 - k_2))/(k_1**2*exp(2*L*k_2) - k_1**2 - 2*I*k_1*k_2*exp(2*L*k_2) - 2*I*k_1*k_2 - k_2**2*exp(2*L*k_2) + k_2**2)"
      ]
     },
     "execution_count": 21,
     "metadata": {},
     "output_type": "execute_result"
    }
   ],
   "source": [
    "conjugate(ans2)"
   ]
  },
  {
   "cell_type": "code",
   "execution_count": 25,
   "id": "8909c744-a0c1-4c4b-acf6-a5efb0a10b9c",
   "metadata": {
    "tags": []
   },
   "outputs": [
    {
     "data": {
      "text/latex": [
       "$\\displaystyle 8 i b \\left(1 - b^{2}\\right)$"
      ],
      "text/plain": [
       "8*I*b*(1 - b**2)"
      ]
     },
     "execution_count": 25,
     "metadata": {},
     "output_type": "execute_result"
    }
   ],
   "source": [
    "b = symbols('b')\n",
    "simplify(-(1-j*b)**4+(1+j*b)**4)"
   ]
  }
 ],
 "metadata": {
  "kernelspec": {
   "display_name": "Python 3 (ipykernel)",
   "language": "python",
   "name": "python3"
  },
  "language_info": {
   "codemirror_mode": {
    "name": "ipython",
    "version": 3
   },
   "file_extension": ".py",
   "mimetype": "text/x-python",
   "name": "python",
   "nbconvert_exporter": "python",
   "pygments_lexer": "ipython3",
   "version": "3.8.18"
  }
 },
 "nbformat": 4,
 "nbformat_minor": 5
}
